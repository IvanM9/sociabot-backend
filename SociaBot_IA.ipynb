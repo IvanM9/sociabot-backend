{
  "cells": [
    {
      "cell_type": "markdown",
      "metadata": {
        "id": "view-in-github",
        "colab_type": "text"
      },
      "source": [
        "<a href=\"https://colab.research.google.com/github/IvanM9/sociabot-backend/blob/moreira/SociaBot_IA.ipynb\" target=\"_parent\"><img src=\"https://colab.research.google.com/assets/colab-badge.svg\" alt=\"Open In Colab\"/></a>"
      ]
    },
    {
      "cell_type": "markdown",
      "source": [
        "> **SociaBot IA** 🤖"
      ],
      "metadata": {
        "id": "mwQU46EMXJtI"
      }
    },
    {
      "cell_type": "markdown",
      "source": [
        "# **Instalar llama-cpp-python y dependencias**"
      ],
      "metadata": {
        "id": "O4pQ_-OxUcTx"
      }
    },
    {
      "cell_type": "code",
      "execution_count": null,
      "metadata": {
        "id": "a-CQO8LJVGn7"
      },
      "outputs": [],
      "source": [
        "!pip install llama-cpp-python"
      ]
    },
    {
      "cell_type": "markdown",
      "source": [
        "Dependencias necesarias"
      ],
      "metadata": {
        "id": "5d45g4N0Ugi1"
      }
    },
    {
      "cell_type": "code",
      "execution_count": null,
      "metadata": {
        "id": "znldebdFV6kc"
      },
      "outputs": [],
      "source": [
        "!pip install kaleido python-multipart openai tiktoken cohere"
      ]
    },
    {
      "cell_type": "markdown",
      "source": [
        "Instalar servidor para los modelos"
      ],
      "metadata": {
        "id": "eOsnvgVRUi6V"
      }
    },
    {
      "cell_type": "code",
      "execution_count": null,
      "metadata": {
        "id": "yddFiH1mVV09"
      },
      "outputs": [],
      "source": [
        "!pip install llama-cpp-python[server]"
      ]
    },
    {
      "cell_type": "markdown",
      "source": [
        "# **Modelos para instalar**"
      ],
      "metadata": {
        "id": "iiKTjaKrVNQ5"
      }
    },
    {
      "cell_type": "markdown",
      "source": [
        "Modelo LLAMA 2 7b Q5_0"
      ],
      "metadata": {
        "id": "XOe6UD_-Tt5V"
      }
    },
    {
      "cell_type": "code",
      "source": [
        "!wget https://huggingface.co/TheBloke/Llama-2-7B-Chat-GGUF/resolve/main/llama-2-7b-chat.Q5_0.gguf"
      ],
      "metadata": {
        "id": "4SHTSSysTwku"
      },
      "execution_count": null,
      "outputs": []
    },
    {
      "cell_type": "markdown",
      "source": [
        "mistral-7b-instruct-v0.1.Q4_K_M"
      ],
      "metadata": {
        "id": "0I4Amg2eT_cQ"
      }
    },
    {
      "cell_type": "code",
      "execution_count": null,
      "metadata": {
        "id": "6lpFXrZeVgsP"
      },
      "outputs": [],
      "source": [
        "!wget https://huggingface.co/TheBloke/Mistral-7B-Instruct-v0.1-GGUF/resolve/main/mistral-7b-instruct-v0.1.Q4_K_M.gguf"
      ]
    },
    {
      "cell_type": "markdown",
      "source": [
        "dolphin-2.6-mistral-7b.Q3_K_S"
      ],
      "metadata": {
        "id": "kNAH2ZDBUHC8"
      }
    },
    {
      "cell_type": "code",
      "source": [
        "!wget https://huggingface.co/TheBloke/dolphin-2.6-mistral-7B-GGUF/resolve/main/dolphin-2.6-mistral-7b.Q3_K_S.gguf"
      ],
      "metadata": {
        "id": "0fV6J6g8sicv"
      },
      "execution_count": null,
      "outputs": []
    },
    {
      "cell_type": "markdown",
      "source": [
        "llama2-chat-ayb-13b.Q4_K_M"
      ],
      "metadata": {
        "id": "ndekLAuiULsV"
      }
    },
    {
      "cell_type": "code",
      "source": [
        "!wget https://huggingface.co/TheBloke/Llama2-chat-AYB-13B-GGUF/resolve/main/llama2-chat-ayb-13b.Q4_K_M.gguf"
      ],
      "metadata": {
        "id": "pSaS3fp5A2Lt"
      },
      "execution_count": null,
      "outputs": []
    },
    {
      "cell_type": "markdown",
      "source": [
        "firefly-llama2-13b-chat.Q3_K_M"
      ],
      "metadata": {
        "id": "J7jlNp1sURbw"
      }
    },
    {
      "cell_type": "code",
      "source": [
        "!wget https://huggingface.co/TheBloke/firefly-llama2-13B-chat-GGUF/resolve/main/firefly-llama2-13b-chat.Q3_K_M.gguf"
      ],
      "metadata": {
        "id": "7yp8x4Lql5jD"
      },
      "execution_count": null,
      "outputs": []
    },
    {
      "cell_type": "markdown",
      "source": [
        "toxicqa-llama2-7b.Q2_K"
      ],
      "metadata": {
        "id": "zn0lnQshUVz8"
      }
    },
    {
      "cell_type": "code",
      "source": [
        "!wget https://huggingface.co/TheBloke/toxicqa-Llama2-7B-GGUF/resolve/main/toxicqa-llama2-7b.Q2_K.gguf"
      ],
      "metadata": {
        "id": "pZLECMarursU"
      },
      "execution_count": null,
      "outputs": []
    },
    {
      "cell_type": "markdown",
      "source": [
        "neural-chat-7b-v3-1.Q3_K_S"
      ],
      "metadata": {
        "id": "97b_Oe1iUYOf"
      }
    },
    {
      "cell_type": "code",
      "source": [
        "!wget https://huggingface.co/TheBloke/neural-chat-7B-v3-1-GGUF/resolve/main/neural-chat-7b-v3-1.Q3_K_S.gguf"
      ],
      "metadata": {
        "id": "gYQ0CFtUz23-"
      },
      "execution_count": null,
      "outputs": []
    },
    {
      "cell_type": "markdown",
      "source": [
        "# **Probar Modelo**"
      ],
      "metadata": {
        "id": "7hw-cywfVW7O"
      }
    },
    {
      "cell_type": "markdown",
      "source": [
        "```\n",
        "# En model_path debe ingresarse el nombre del modelo instalado\n",
        "```"
      ],
      "metadata": {
        "id": "rxWrF2bRUpQ5"
      }
    },
    {
      "cell_type": "code",
      "execution_count": null,
      "metadata": {
        "id": "MOYHvzR3X4kT"
      },
      "outputs": [],
      "source": [
        "from llama_cpp import Llama\n",
        "llm = Llama(model_path=\"mistral-7b-instruct-v0.1.Q4_K_M.gguf\")\n",
        "output = llm(\"Q: Para que sirve el cerebro? A: \", max_tokens=4092, stop=[\"Q:\", \"\\n\"], echo=True)\n",
        "print(output)"
      ]
    },
    {
      "cell_type": "markdown",
      "source": [
        "# **Configuracion de Ngrok**"
      ],
      "metadata": {
        "id": "dTLVBFBWViIl"
      }
    },
    {
      "cell_type": "markdown",
      "source": [
        "Instalacion de ngrok"
      ],
      "metadata": {
        "id": "50dmAerkVl7Z"
      }
    },
    {
      "cell_type": "code",
      "execution_count": null,
      "metadata": {
        "id": "SbV0cI4_Ygio"
      },
      "outputs": [],
      "source": [
        "!wget https://bin.equinox.io/c/4VmDzA7iaHb/ngrok-stable-linux-amd64.zip\n",
        "!unzip -o ngrok-stable-linux-amd64.zip"
      ]
    },
    {
      "cell_type": "markdown",
      "source": [
        "Usar token de ngrok"
      ],
      "metadata": {
        "id": "3ZKsBJaqV6mD"
      }
    },
    {
      "cell_type": "code",
      "execution_count": null,
      "metadata": {
        "id": "LCm1VVPvYqWu"
      },
      "outputs": [],
      "source": [
        "from google.colab import userdata\n",
        "token = userdata.get('AUTHGROK_N')\n",
        "!./ngrok authtoken 23DfsO3h97yUPTQOqilsFDi4IcE_4J681vGPqAViS5As9f5EW\n"
      ]
    },
    {
      "cell_type": "markdown",
      "source": [
        "# **Ejecucion de Servidor**"
      ],
      "metadata": {
        "id": "jbgrm0xfWEyr"
      }
    },
    {
      "cell_type": "markdown",
      "source": [
        "Se ejecuta el server\n",
        "```\n",
        "# --model debe ser reemplazado por el modelo descargado\n",
        "```"
      ],
      "metadata": {
        "id": "UOCMOf7SWIm8"
      }
    },
    {
      "cell_type": "code",
      "execution_count": 8,
      "metadata": {
        "id": "5pH7dWnOYuWh"
      },
      "outputs": [],
      "source": [
        "!python3 -m llama_cpp.server --model mistral-7b-instruct-v0.1.Q4_K_M.gguf --host 127.0.0.1 > server.log 2>&1 &"
      ]
    },
    {
      "cell_type": "markdown",
      "source": [
        "Se redirecciona el server"
      ],
      "metadata": {
        "id": "cj4ASJX_WTNT"
      }
    },
    {
      "cell_type": "code",
      "execution_count": 9,
      "metadata": {
        "id": "HWa6ZX1VZDtE"
      },
      "outputs": [],
      "source": [
        "from IPython import get_ipython\n",
        "get_ipython().system_raw('./ngrok http 8000 &')"
      ]
    },
    {
      "cell_type": "markdown",
      "source": [
        "Obtencion de url para ver ejecucion\n",
        "```\n",
        "# Se agrega /docs al final de la URL\n",
        "```"
      ],
      "metadata": {
        "id": "bMBfSpR7WbqB"
      }
    },
    {
      "cell_type": "code",
      "execution_count": null,
      "metadata": {
        "id": "i4u1y3OWZJ70"
      },
      "outputs": [],
      "source": [
        "!curl -s http://localhost:4040/api/tunnels | python3 -c \"import sys, json; print(json.load(sys.stdin)['tunnels'][0]['public_url'])\""
      ]
    },
    {
      "cell_type": "markdown",
      "source": [
        "# **Detener Server**"
      ],
      "metadata": {
        "id": "XkKRC932W0RT"
      }
    },
    {
      "cell_type": "markdown",
      "source": [
        "Matar servicio"
      ],
      "metadata": {
        "id": "DrLoS-pwW4tt"
      }
    },
    {
      "cell_type": "code",
      "source": [
        "!pkill uvicorn"
      ],
      "metadata": {
        "id": "GwAIuRGhnAuW"
      },
      "execution_count": null,
      "outputs": []
    },
    {
      "cell_type": "markdown",
      "source": [
        "Listar procesos"
      ],
      "metadata": {
        "id": "IhHGrQ5nW7OI"
      }
    },
    {
      "cell_type": "code",
      "source": [
        "!ps -eaf"
      ],
      "metadata": {
        "id": "fuuLLHN7nM0k"
      },
      "execution_count": null,
      "outputs": []
    },
    {
      "cell_type": "markdown",
      "source": [
        "Se mata el proceso\n",
        "```\n",
        "# Reemplazar el numero con el proceso elegido\n",
        "```"
      ],
      "metadata": {
        "id": "8lMTxRT2W-Mf"
      }
    },
    {
      "cell_type": "code",
      "source": [
        "!kill -9 2406"
      ],
      "metadata": {
        "id": "NIiD2sHznROo"
      },
      "execution_count": null,
      "outputs": []
    }
  ],
  "metadata": {
    "colab": {
      "provenance": [],
      "collapsed_sections": [
        "O4pQ_-OxUcTx",
        "iiKTjaKrVNQ5",
        "7hw-cywfVW7O",
        "dTLVBFBWViIl",
        "jbgrm0xfWEyr",
        "XkKRC932W0RT"
      ],
      "authorship_tag": "ABX9TyNpgf37w6Lf8665cfXxMZwf",
      "include_colab_link": true
    },
    "kernelspec": {
      "display_name": "Python 3",
      "name": "python3"
    },
    "language_info": {
      "name": "python"
    }
  },
  "nbformat": 4,
  "nbformat_minor": 0
}